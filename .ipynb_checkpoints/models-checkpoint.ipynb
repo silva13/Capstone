{
 "cells": [
  {
   "cell_type": "code",
   "execution_count": 1,
   "metadata": {},
   "outputs": [
    {
     "name": "stdout",
     "output_type": "stream",
     "text": [
      "Requirement already satisfied: python-mnist in /usr/local/lib/python3.5/dist-packages\r\n"
     ]
    }
   ],
   "source": [
    "!pip install python-mnist"
   ]
  },
  {
   "cell_type": "code",
   "execution_count": 1,
   "metadata": {},
   "outputs": [
    {
     "name": "stderr",
     "output_type": "stream",
     "text": [
      "Using TensorFlow backend.\n"
     ]
    }
   ],
   "source": [
    "%run __init__.py"
   ]
  },
  {
   "cell_type": "code",
   "execution_count": 2,
   "metadata": {},
   "outputs": [
    {
     "data": {
      "text/plain": [
       "((60000, 784), (60000,), (10000, 784), (10000,))"
      ]
     },
     "execution_count": 2,
     "metadata": {},
     "output_type": "execute_result"
    }
   ],
   "source": [
    "mndata = MNIST('./python-mnist/data')\n",
    "X_train,y_train=mndata.load_training()\n",
    "X_test, y_test=mndata.load_testing()\n",
    "X_train=np.array(X_train)\n",
    "y_train=np.array(y_train)\n",
    "X_test= np.array(X_test)\n",
    "y_test=np.array(y_test)\n",
    "X_train.shape, y_train.shape, X_test.shape, y_test.shape"
   ]
  },
  {
   "cell_type": "code",
   "execution_count": 3,
   "metadata": {},
   "outputs": [],
   "source": [
    "#logistic regression- we'll need to run in batches- we'll use keras\n",
    "X_train1 = X_train.reshape(60000,28,28)\n",
    "X_test1 = X_test.reshape(10000,28,28)\n",
    "X_train1 = X_train1.astype('float32')\n",
    "X_test1 = X_test1.astype('float32')\n",
    "X_train1 /= 255 # scaling\n",
    "X_test1 /= 255\n",
    "X_train1 = X_train1.reshape(X_train1.shape[0], X_train1.shape[1], X_train1.shape[2], 1)# 1 becuase we have 1 channel- because black and white\n",
    "X_test1 = X_test1.reshape(X_test1.shape[0], X_test1.shape[1], X_test1.shape[2], 1)\n",
    "y_train1 = keras.utils.to_categorical(y_train, 10)\n",
    "y_test1 = keras.utils.to_categorical(y_test, 10)"
   ]
  },
  {
   "cell_type": "code",
   "execution_count": 4,
   "metadata": {},
   "outputs": [],
   "source": [
    "LR = Sequential([\n",
    "    Flatten(input_shape=(28,28,1), name= \"flatten_1_mlp\"),\n",
    "    Dense(10, activation='softmax')\n",
    "])"
   ]
  },
  {
   "cell_type": "code",
   "execution_count": 5,
   "metadata": {},
   "outputs": [
    {
     "name": "stdout",
     "output_type": "stream",
     "text": [
      "_________________________________________________________________\n",
      "Layer (type)                 Output Shape              Param #   \n",
      "=================================================================\n",
      "flatten_1_mlp (Flatten)      (None, 784)               0         \n",
      "_________________________________________________________________\n",
      "dense_1 (Dense)              (None, 10)                7850      \n",
      "=================================================================\n",
      "Total params: 7,850\n",
      "Trainable params: 7,850\n",
      "Non-trainable params: 0\n",
      "_________________________________________________________________\n"
     ]
    }
   ],
   "source": [
    "LR.summary()"
   ]
  },
  {
   "cell_type": "code",
   "execution_count": 6,
   "metadata": {},
   "outputs": [],
   "source": [
    "LR.compile(optimizer=keras.optimizers.SGD(), \n",
    "           loss=keras.losses.categorical_crossentropy,\n",
    "           metrics=['accuracy'])"
   ]
  },
  {
   "cell_type": "code",
   "execution_count": 11,
   "metadata": {},
   "outputs": [
    {
     "name": "stdout",
     "output_type": "stream",
     "text": [
      "Train on 48000 samples, validate on 12000 samples\n",
      "Epoch 1/100\n",
      "48000/48000 [==============================] - 2s 44us/step - loss: 0.8566 - acc: 0.7921 - val_loss: 0.5118 - val_acc: 0.8748\n",
      "Epoch 2/100\n",
      "48000/48000 [==============================] - 2s 38us/step - loss: 0.4913 - acc: 0.8739 - val_loss: 0.4189 - val_acc: 0.8926\n",
      "Epoch 3/100\n",
      "48000/48000 [==============================] - 2s 38us/step - loss: 0.4291 - acc: 0.8866 - val_loss: 0.3841 - val_acc: 0.8981\n",
      "Epoch 4/100\n",
      "48000/48000 [==============================] - 2s 38us/step - loss: 0.3984 - acc: 0.8922 - val_loss: 0.3629 - val_acc: 0.9037\n",
      "Epoch 5/100\n",
      "48000/48000 [==============================] - 2s 38us/step - loss: 0.3791 - acc: 0.8954 - val_loss: 0.3483 - val_acc: 0.9075\n",
      "Epoch 6/100\n",
      "48000/48000 [==============================] - 2s 38us/step - loss: 0.3654 - acc: 0.8994 - val_loss: 0.3384 - val_acc: 0.9084\n",
      "Epoch 7/100\n",
      "48000/48000 [==============================] - 2s 38us/step - loss: 0.3552 - acc: 0.9016 - val_loss: 0.3312 - val_acc: 0.9099\n",
      "Epoch 8/100\n",
      "48000/48000 [==============================] - 2s 38us/step - loss: 0.3470 - acc: 0.9036 - val_loss: 0.3250 - val_acc: 0.9109\n",
      "Epoch 9/100\n",
      "48000/48000 [==============================] - 2s 38us/step - loss: 0.3404 - acc: 0.9051 - val_loss: 0.3201 - val_acc: 0.9112\n",
      "Epoch 10/100\n",
      "48000/48000 [==============================] - 2s 38us/step - loss: 0.3347 - acc: 0.9063 - val_loss: 0.3157 - val_acc: 0.9125\n",
      "Epoch 11/100\n",
      "48000/48000 [==============================] - 2s 38us/step - loss: 0.3300 - acc: 0.9079 - val_loss: 0.3119 - val_acc: 0.9148\n",
      "Epoch 12/100\n",
      "48000/48000 [==============================] - 2s 38us/step - loss: 0.3258 - acc: 0.9089 - val_loss: 0.3088 - val_acc: 0.9140\n",
      "Epoch 13/100\n",
      "48000/48000 [==============================] - 2s 38us/step - loss: 0.3221 - acc: 0.9105 - val_loss: 0.3062 - val_acc: 0.9147\n",
      "Epoch 14/100\n",
      "48000/48000 [==============================] - 2s 38us/step - loss: 0.3188 - acc: 0.9106 - val_loss: 0.3037 - val_acc: 0.9161\n",
      "Epoch 15/100\n",
      "48000/48000 [==============================] - 2s 38us/step - loss: 0.3159 - acc: 0.9123 - val_loss: 0.3014 - val_acc: 0.9163\n",
      "Epoch 16/100\n",
      "48000/48000 [==============================] - 2s 38us/step - loss: 0.3132 - acc: 0.9126 - val_loss: 0.2997 - val_acc: 0.9166\n",
      "Epoch 17/100\n",
      "48000/48000 [==============================] - 2s 38us/step - loss: 0.3109 - acc: 0.9136 - val_loss: 0.2978 - val_acc: 0.9171\n",
      "Epoch 18/100\n",
      "48000/48000 [==============================] - 2s 38us/step - loss: 0.3086 - acc: 0.9145 - val_loss: 0.2967 - val_acc: 0.9173\n",
      "Epoch 19/100\n",
      "48000/48000 [==============================] - 2s 38us/step - loss: 0.3065 - acc: 0.9145 - val_loss: 0.2947 - val_acc: 0.9167\n",
      "Epoch 20/100\n",
      "48000/48000 [==============================] - 2s 38us/step - loss: 0.3046 - acc: 0.9153 - val_loss: 0.2937 - val_acc: 0.9187\n",
      "Epoch 21/100\n",
      "48000/48000 [==============================] - 2s 38us/step - loss: 0.3029 - acc: 0.9158 - val_loss: 0.2920 - val_acc: 0.9191\n",
      "Epoch 22/100\n",
      "48000/48000 [==============================] - 2s 38us/step - loss: 0.3013 - acc: 0.9162 - val_loss: 0.2908 - val_acc: 0.9182\n",
      "Epoch 23/100\n",
      "48000/48000 [==============================] - 2s 38us/step - loss: 0.2998 - acc: 0.9168 - val_loss: 0.2901 - val_acc: 0.9193\n",
      "Epoch 24/100\n",
      "48000/48000 [==============================] - 2s 38us/step - loss: 0.2984 - acc: 0.9175 - val_loss: 0.2889 - val_acc: 0.9189\n",
      "Epoch 25/100\n",
      "48000/48000 [==============================] - 2s 38us/step - loss: 0.2970 - acc: 0.9171 - val_loss: 0.2881 - val_acc: 0.9194\n",
      "Epoch 26/100\n",
      "48000/48000 [==============================] - 2s 38us/step - loss: 0.2956 - acc: 0.9175 - val_loss: 0.2873 - val_acc: 0.9201\n",
      "Epoch 27/100\n",
      "48000/48000 [==============================] - 2s 38us/step - loss: 0.2946 - acc: 0.9178 - val_loss: 0.2866 - val_acc: 0.9199\n",
      "Epoch 28/100\n",
      "48000/48000 [==============================] - 2s 38us/step - loss: 0.2934 - acc: 0.9181 - val_loss: 0.2858 - val_acc: 0.9202\n",
      "Epoch 29/100\n",
      "48000/48000 [==============================] - 2s 38us/step - loss: 0.2923 - acc: 0.9185 - val_loss: 0.2849 - val_acc: 0.9206\n",
      "Epoch 30/100\n",
      "48000/48000 [==============================] - 2s 38us/step - loss: 0.2913 - acc: 0.9187 - val_loss: 0.2841 - val_acc: 0.9203\n",
      "Epoch 31/100\n",
      "48000/48000 [==============================] - 2s 38us/step - loss: 0.2902 - acc: 0.9186 - val_loss: 0.2837 - val_acc: 0.9210\n",
      "Epoch 32/100\n",
      "48000/48000 [==============================] - 2s 38us/step - loss: 0.2893 - acc: 0.9186 - val_loss: 0.2829 - val_acc: 0.9207\n",
      "Epoch 33/100\n",
      "48000/48000 [==============================] - 2s 38us/step - loss: 0.2884 - acc: 0.9194 - val_loss: 0.2824 - val_acc: 0.9211\n",
      "Epoch 34/100\n",
      "48000/48000 [==============================] - 2s 38us/step - loss: 0.2876 - acc: 0.9195 - val_loss: 0.2817 - val_acc: 0.9213\n",
      "Epoch 35/100\n",
      "48000/48000 [==============================] - 2s 38us/step - loss: 0.2867 - acc: 0.9203 - val_loss: 0.2814 - val_acc: 0.9208\n",
      "Epoch 36/100\n",
      "48000/48000 [==============================] - 2s 38us/step - loss: 0.2860 - acc: 0.9200 - val_loss: 0.2808 - val_acc: 0.9204\n",
      "Epoch 37/100\n",
      "48000/48000 [==============================] - 2s 38us/step - loss: 0.2852 - acc: 0.9205 - val_loss: 0.2802 - val_acc: 0.9217\n",
      "Epoch 38/100\n",
      "48000/48000 [==============================] - 2s 38us/step - loss: 0.2844 - acc: 0.9205 - val_loss: 0.2796 - val_acc: 0.9218\n",
      "Epoch 39/100\n",
      "48000/48000 [==============================] - 2s 38us/step - loss: 0.2837 - acc: 0.9208 - val_loss: 0.2789 - val_acc: 0.9221\n",
      "Epoch 40/100\n",
      "48000/48000 [==============================] - 2s 38us/step - loss: 0.2830 - acc: 0.9212 - val_loss: 0.2788 - val_acc: 0.9217\n",
      "Epoch 41/100\n",
      "48000/48000 [==============================] - 2s 38us/step - loss: 0.2823 - acc: 0.9212 - val_loss: 0.2782 - val_acc: 0.9221\n",
      "Epoch 42/100\n",
      "48000/48000 [==============================] - 2s 38us/step - loss: 0.2817 - acc: 0.9216 - val_loss: 0.2778 - val_acc: 0.9216\n",
      "Epoch 43/100\n",
      "48000/48000 [==============================] - 2s 38us/step - loss: 0.2811 - acc: 0.9218 - val_loss: 0.2779 - val_acc: 0.9224\n",
      "Epoch 44/100\n",
      "48000/48000 [==============================] - 2s 38us/step - loss: 0.2805 - acc: 0.9214 - val_loss: 0.2779 - val_acc: 0.9223\n",
      "Epoch 45/100\n",
      "48000/48000 [==============================] - 2s 38us/step - loss: 0.2799 - acc: 0.9219 - val_loss: 0.2769 - val_acc: 0.9227\n",
      "Epoch 46/100\n",
      "48000/48000 [==============================] - 2s 38us/step - loss: 0.2793 - acc: 0.9222 - val_loss: 0.2767 - val_acc: 0.9226\n",
      "Epoch 47/100\n",
      "48000/48000 [==============================] - 2s 38us/step - loss: 0.2789 - acc: 0.9223 - val_loss: 0.2760 - val_acc: 0.9231\n",
      "Epoch 48/100\n",
      "48000/48000 [==============================] - 2s 38us/step - loss: 0.2782 - acc: 0.9224 - val_loss: 0.2759 - val_acc: 0.9232\n",
      "Epoch 49/100\n",
      "48000/48000 [==============================] - 2s 38us/step - loss: 0.2777 - acc: 0.9225 - val_loss: 0.2759 - val_acc: 0.9222\n",
      "Epoch 50/100\n",
      "48000/48000 [==============================] - 2s 38us/step - loss: 0.2773 - acc: 0.9225 - val_loss: 0.2754 - val_acc: 0.9227\n",
      "Epoch 51/100\n",
      "48000/48000 [==============================] - 2s 38us/step - loss: 0.2767 - acc: 0.9228 - val_loss: 0.2753 - val_acc: 0.9234\n",
      "Epoch 52/100\n",
      "48000/48000 [==============================] - 2s 38us/step - loss: 0.2762 - acc: 0.9229 - val_loss: 0.2750 - val_acc: 0.9229\n",
      "Epoch 53/100\n",
      "48000/48000 [==============================] - 2s 38us/step - loss: 0.2758 - acc: 0.9231 - val_loss: 0.2748 - val_acc: 0.9239\n",
      "Epoch 54/100\n",
      "48000/48000 [==============================] - 2s 38us/step - loss: 0.2755 - acc: 0.9232 - val_loss: 0.2743 - val_acc: 0.9240\n",
      "Epoch 55/100\n",
      "48000/48000 [==============================] - 2s 38us/step - loss: 0.2750 - acc: 0.9236 - val_loss: 0.2740 - val_acc: 0.9229\n",
      "Epoch 56/100\n",
      "48000/48000 [==============================] - 2s 38us/step - loss: 0.2745 - acc: 0.9236 - val_loss: 0.2736 - val_acc: 0.9232\n",
      "Epoch 57/100\n",
      "48000/48000 [==============================] - 2s 38us/step - loss: 0.2741 - acc: 0.9238 - val_loss: 0.2737 - val_acc: 0.9234\n",
      "Epoch 58/100\n",
      "48000/48000 [==============================] - 2s 38us/step - loss: 0.2737 - acc: 0.9237 - val_loss: 0.2736 - val_acc: 0.9232\n",
      "Epoch 59/100\n",
      "48000/48000 [==============================] - 2s 38us/step - loss: 0.2733 - acc: 0.9240 - val_loss: 0.2735 - val_acc: 0.9243\n",
      "Epoch 60/100\n",
      "48000/48000 [==============================] - 2s 38us/step - loss: 0.2729 - acc: 0.9240 - val_loss: 0.2730 - val_acc: 0.9233\n",
      "Epoch 61/100\n",
      "48000/48000 [==============================] - 2s 38us/step - loss: 0.2725 - acc: 0.9242 - val_loss: 0.2728 - val_acc: 0.9247\n",
      "Epoch 62/100\n",
      "48000/48000 [==============================] - 2s 38us/step - loss: 0.2722 - acc: 0.9243 - val_loss: 0.2727 - val_acc: 0.9245\n",
      "Epoch 63/100\n",
      "48000/48000 [==============================] - 2s 38us/step - loss: 0.2718 - acc: 0.9242 - val_loss: 0.2723 - val_acc: 0.9243\n",
      "Epoch 64/100\n",
      "48000/48000 [==============================] - 2s 38us/step - loss: 0.2715 - acc: 0.9241 - val_loss: 0.2724 - val_acc: 0.9246\n",
      "Epoch 65/100\n",
      "48000/48000 [==============================] - 2s 38us/step - loss: 0.2711 - acc: 0.9245 - val_loss: 0.2721 - val_acc: 0.9246\n",
      "Epoch 66/100\n",
      "48000/48000 [==============================] - 2s 38us/step - loss: 0.2708 - acc: 0.9246 - val_loss: 0.2719 - val_acc: 0.9251\n",
      "Epoch 67/100\n",
      "48000/48000 [==============================] - 2s 38us/step - loss: 0.2705 - acc: 0.9245 - val_loss: 0.2717 - val_acc: 0.9249\n",
      "Epoch 68/100\n",
      "48000/48000 [==============================] - 2s 38us/step - loss: 0.2701 - acc: 0.9245 - val_loss: 0.2719 - val_acc: 0.9244\n",
      "Epoch 69/100\n",
      "48000/48000 [==============================] - 2s 38us/step - loss: 0.2698 - acc: 0.9254 - val_loss: 0.2714 - val_acc: 0.9240\n",
      "Epoch 70/100\n",
      "48000/48000 [==============================] - 2s 38us/step - loss: 0.2695 - acc: 0.9249 - val_loss: 0.2711 - val_acc: 0.9253\n",
      "Epoch 71/100\n",
      "48000/48000 [==============================] - 2s 38us/step - loss: 0.2692 - acc: 0.9253 - val_loss: 0.2712 - val_acc: 0.9244\n",
      "Epoch 72/100\n",
      "48000/48000 [==============================] - 2s 38us/step - loss: 0.2689 - acc: 0.9252 - val_loss: 0.2710 - val_acc: 0.9247\n",
      "Epoch 73/100\n",
      "48000/48000 [==============================] - 2s 38us/step - loss: 0.2686 - acc: 0.9251 - val_loss: 0.2707 - val_acc: 0.9248\n",
      "Epoch 74/100\n",
      "48000/48000 [==============================] - 2s 38us/step - loss: 0.2682 - acc: 0.9250 - val_loss: 0.2706 - val_acc: 0.9245\n",
      "Epoch 75/100\n",
      "48000/48000 [==============================] - 2s 38us/step - loss: 0.2679 - acc: 0.9260 - val_loss: 0.2707 - val_acc: 0.9247\n",
      "Epoch 76/100\n",
      "48000/48000 [==============================] - 2s 38us/step - loss: 0.2676 - acc: 0.9253 - val_loss: 0.2702 - val_acc: 0.9243\n",
      "Epoch 77/100\n",
      "48000/48000 [==============================] - 2s 38us/step - loss: 0.2674 - acc: 0.9255 - val_loss: 0.2702 - val_acc: 0.9242\n",
      "Epoch 78/100\n",
      "48000/48000 [==============================] - 2s 38us/step - loss: 0.2672 - acc: 0.9258 - val_loss: 0.2702 - val_acc: 0.9257\n",
      "Epoch 79/100\n",
      "48000/48000 [==============================] - 2s 38us/step - loss: 0.2669 - acc: 0.9258 - val_loss: 0.2703 - val_acc: 0.9253\n",
      "Epoch 80/100\n",
      "48000/48000 [==============================] - 2s 38us/step - loss: 0.2666 - acc: 0.9253 - val_loss: 0.2705 - val_acc: 0.9247\n",
      "Epoch 81/100\n",
      "48000/48000 [==============================] - 2s 38us/step - loss: 0.2664 - acc: 0.9258 - val_loss: 0.2700 - val_acc: 0.9254\n",
      "Epoch 82/100\n",
      "48000/48000 [==============================] - 2s 38us/step - loss: 0.2661 - acc: 0.9262 - val_loss: 0.2697 - val_acc: 0.9257\n",
      "Epoch 83/100\n",
      "48000/48000 [==============================] - 2s 38us/step - loss: 0.2658 - acc: 0.9260 - val_loss: 0.2698 - val_acc: 0.9251\n",
      "Epoch 84/100\n",
      "48000/48000 [==============================] - 2s 38us/step - loss: 0.2656 - acc: 0.9258 - val_loss: 0.2694 - val_acc: 0.9256\n",
      "Epoch 85/100\n",
      "48000/48000 [==============================] - 2s 38us/step - loss: 0.2653 - acc: 0.9262 - val_loss: 0.2697 - val_acc: 0.9257\n",
      "Epoch 86/100\n",
      "48000/48000 [==============================] - 2s 38us/step - loss: 0.2651 - acc: 0.9258 - val_loss: 0.2690 - val_acc: 0.9253\n",
      "Epoch 87/100\n",
      "48000/48000 [==============================] - 2s 38us/step - loss: 0.2649 - acc: 0.9262 - val_loss: 0.2692 - val_acc: 0.9254\n",
      "Epoch 88/100\n",
      "48000/48000 [==============================] - 2s 38us/step - loss: 0.2646 - acc: 0.9261 - val_loss: 0.2693 - val_acc: 0.9261\n",
      "Epoch 89/100\n",
      "48000/48000 [==============================] - 2s 38us/step - loss: 0.2644 - acc: 0.9259 - val_loss: 0.2690 - val_acc: 0.9253\n",
      "Epoch 90/100\n",
      "48000/48000 [==============================] - 2s 38us/step - loss: 0.2642 - acc: 0.9264 - val_loss: 0.2691 - val_acc: 0.9260\n",
      "Epoch 91/100\n",
      "48000/48000 [==============================] - 2s 38us/step - loss: 0.2640 - acc: 0.9265 - val_loss: 0.2691 - val_acc: 0.9256\n",
      "Epoch 92/100\n",
      "48000/48000 [==============================] - 2s 38us/step - loss: 0.2637 - acc: 0.9264 - val_loss: 0.2688 - val_acc: 0.9257\n",
      "Epoch 93/100\n",
      "48000/48000 [==============================] - 2s 38us/step - loss: 0.2635 - acc: 0.9263 - val_loss: 0.2687 - val_acc: 0.9263\n",
      "Epoch 94/100\n",
      "48000/48000 [==============================] - 2s 38us/step - loss: 0.2633 - acc: 0.9264 - val_loss: 0.2689 - val_acc: 0.9259\n",
      "Epoch 95/100\n",
      "48000/48000 [==============================] - 2s 38us/step - loss: 0.2631 - acc: 0.9268 - val_loss: 0.2682 - val_acc: 0.9257\n",
      "Epoch 96/100\n",
      "48000/48000 [==============================] - 2s 38us/step - loss: 0.2628 - acc: 0.9268 - val_loss: 0.2685 - val_acc: 0.9255\n",
      "Epoch 97/100\n",
      "48000/48000 [==============================] - 2s 38us/step - loss: 0.2627 - acc: 0.9263 - val_loss: 0.2685 - val_acc: 0.9263\n",
      "Epoch 98/100\n",
      "48000/48000 [==============================] - 2s 38us/step - loss: 0.2624 - acc: 0.9267 - val_loss: 0.2688 - val_acc: 0.9265\n",
      "Epoch 99/100\n",
      "48000/48000 [==============================] - 2s 38us/step - loss: 0.2622 - acc: 0.9270 - val_loss: 0.2683 - val_acc: 0.9263\n",
      "Epoch 100/100\n",
      "48000/48000 [==============================] - 2s 38us/step - loss: 0.2621 - acc: 0.9269 - val_loss: 0.2683 - val_acc: 0.9263\n"
     ]
    }
   ],
   "source": [
    "LR_history=LR.fit(X_train, y_train, validation_split=.2, epochs=100)"
   ]
  },
  {
   "cell_type": "code",
   "execution_count": 13,
   "metadata": {},
   "outputs": [
    {
     "data": {
      "image/png": "[encoded data removed]",
      "text/plain": [
       "<matplotlib.figure.Figure at 0x7fed82cc77f0>"
      ]
     },
     "metadata": {},
     "output_type": "display_data"
    }
   ],
   "source": [
    "fig = plt.figure(figsize=(8,6))\n",
    "for i, (title, data) in enumerate(LR_history.history.items()):\n",
    "    fig.add_subplot(2,2,1+i)\n",
    "    plt.plot(data)\n",
    "    plt.xlabel('Epoch')\n",
    "    plt.ylabel(title)\n",
    "plt.tight_layout()"
   ]
  },
  {
   "cell_type": "code",
   "execution_count": 24,
   "metadata": {},
   "outputs": [
    {
     "name": "stdout",
     "output_type": "stream",
     "text": [
      "10000/10000 [==============================] - 0s 18us/step\n",
      "Test score: 0.271047123116\n",
      "Test accuracy: 0.9236\n",
      "[2 1 0 4]\n",
      "[[ 0.  0.  1.  0.  0.  0.  0.  0.  0.  0.]\n",
      " [ 0.  1.  0.  0.  0.  0.  0.  0.  0.  0.]\n",
      " [ 1.  0.  0.  0.  0.  0.  0.  0.  0.  0.]\n",
      " [ 0.  0.  0.  0.  1.  0.  0.  0.  0.  0.]]\n"
     ]
    }
   ],
   "source": [
    "score = LR.evaluate(X_test, y_test)\n",
    "print('Test score:', score[0])\n",
    "print('Test accuracy:', score[1])\n",
    "print(LR.predict_classes(X_test[1:5]))\n",
    "print(y_test[1:5])"
   ]
  },
  {
   "cell_type": "code",
   "execution_count": 15,
   "metadata": {},
   "outputs": [],
   "source": [
    "from sklearn.metrics import classification_report,confusion_matrix"
   ]
  },
  {
   "cell_type": "code",
   "execution_count": 57,
   "metadata": {},
   "outputs": [
    {
     "name": "stdout",
     "output_type": "stream",
     "text": [
      "[7 2 1 ..., 4 5 6]\n",
      "[7 2 1 ..., 4 5 6]\n",
      "             precision    recall  f1-score   support\n",
      "\n",
      "          0       0.95      0.98      0.97       980\n",
      "          1       0.97      0.98      0.97      1135\n",
      "          2       0.93      0.90      0.91      1032\n",
      "          3       0.91      0.91      0.91      1010\n",
      "          4       0.92      0.94      0.93       982\n",
      "          5       0.91      0.86      0.88       892\n",
      "          6       0.94      0.95      0.94       958\n",
      "          7       0.93      0.92      0.93      1028\n",
      "          8       0.88      0.89      0.88       974\n",
      "          9       0.91      0.90      0.90      1009\n",
      "\n",
      "avg / total       0.92      0.92      0.92     10000\n",
      "\n",
      "[[ 964    0    1    1    0    6    6    1    1    0]\n",
      " [   0 1111    3    2    0    1    4    2   12    0]\n",
      " [   5   10  925   14   11    4   11    8   38    6]\n",
      " [   3    1   19  918    0   25    3   12   20    9]\n",
      " [   1    2    5    2  919    0   10    3    8   32]\n",
      " [   9    2    5   36    8  770   17    6   32    7]\n",
      " [  11    3    7    1   11   10  910    3    2    0]\n",
      " [   1    6   24    7    8    1    0  950    1   30]\n",
      " [   8    8    7   24    9   26   11   10  863    8]\n",
      " [  11    7    2    9   32    7    0   28    7  906]]\n"
     ]
    }
   ],
   "source": [
    "y_pred = LR.predict_classes(X_test)\n",
    "print(y_pred)\n",
    "print(y_test)\n",
    "#p=model.predict_proba(X_test) # to predict probability\n",
    "\n",
    "print(classification_report(y_test, y_pred))\n",
    "confusion_matrix=confusion_matrix(y_test, y_pred)\n",
    "print(confusion_matrix)\n"
   ]
  },
  {
   "cell_type": "code",
   "execution_count": 75,
   "metadata": {},
   "outputs": [
    {
     "data": {
      "text/plain": [
       "<matplotlib.axes._subplots.AxesSubplot at 0x7fed840f5400>"
      ]
     },
     "execution_count": 75,
     "metadata": {},
     "output_type": "execute_result"
    },
    {
     "data": {
      "image/png": "[encoded data removed]",
      "text/plain": [
       "<matplotlib.figure.Figure at 0x7fed840b82e8>"
      ]
     },
     "metadata": {},
     "output_type": "display_data"
    }
   ],
   "source": [
    "import seaborn as sn\n",
    "import pandas as pd\n",
    "import matplotlib.pyplot as plt\n",
    "\n",
    "df_cm = pd.DataFrame(confusion_matrix, index = [i for i in \"0123456789\"],\n",
    "                  columns = [i for i in \"0123456789\"])\n",
    "plt.figure(figsize = (15,12))\n",
    "sn.heatmap(df_cm, annot=True, fmt=\"g\", cmap=\"YlGnBu\", vmax=50)"
   ]
  },
  {
   "cell_type": "code",
   "execution_count": 10,
   "metadata": {},
   "outputs": [
    {
     "name": "stdout",
     "output_type": "stream",
     "text": [
      "Epoch 1/100\n",
      "60000/60000 [==============================] - 2s 34us/step - loss: 0.2767 - acc: 0.9226\n",
      "Epoch 2/100\n",
      "60000/60000 [==============================] - 2s 34us/step - loss: 0.2748 - acc: 0.9233\n",
      "Epoch 3/100\n",
      "60000/60000 [==============================] - 2s 34us/step - loss: 0.2735 - acc: 0.9238\n",
      "Epoch 4/100\n",
      "60000/60000 [==============================] - 2s 34us/step - loss: 0.2723 - acc: 0.9240\n",
      "Epoch 5/100\n",
      "60000/60000 [==============================] - 2s 33us/step - loss: 0.2714 - acc: 0.9247\n",
      "Epoch 6/100\n",
      "60000/60000 [==============================] - 2s 33us/step - loss: 0.2706 - acc: 0.9246\n",
      "Epoch 7/100\n",
      "60000/60000 [==============================] - 2s 33us/step - loss: 0.2699 - acc: 0.9250\n",
      "Epoch 8/100\n",
      "60000/60000 [==============================] - 2s 33us/step - loss: 0.2693 - acc: 0.9251\n",
      "Epoch 9/100\n",
      "60000/60000 [==============================] - 2s 33us/step - loss: 0.2686 - acc: 0.9256\n",
      "Epoch 10/100\n",
      "60000/60000 [==============================] - 2s 33us/step - loss: 0.2681 - acc: 0.9256\n",
      "Epoch 11/100\n",
      "60000/60000 [==============================] - 2s 33us/step - loss: 0.2676 - acc: 0.9259\n",
      "Epoch 12/100\n",
      "60000/60000 [==============================] - 2s 33us/step - loss: 0.2671 - acc: 0.9257\n",
      "Epoch 13/100\n",
      "60000/60000 [==============================] - 2s 33us/step - loss: 0.2666 - acc: 0.9259\n",
      "Epoch 14/100\n",
      "60000/60000 [==============================] - 2s 33us/step - loss: 0.2662 - acc: 0.9259\n",
      "Epoch 15/100\n",
      "60000/60000 [==============================] - 2s 33us/step - loss: 0.2657 - acc: 0.9263\n",
      "Epoch 16/100\n",
      "60000/60000 [==============================] - 2s 33us/step - loss: 0.2653 - acc: 0.9264\n",
      "Epoch 17/100\n",
      "60000/60000 [==============================] - 2s 33us/step - loss: 0.2649 - acc: 0.9268\n",
      "Epoch 18/100\n",
      "60000/60000 [==============================] - 2s 33us/step - loss: 0.2645 - acc: 0.9270\n",
      "Epoch 19/100\n",
      "60000/60000 [==============================] - 2s 33us/step - loss: 0.2642 - acc: 0.9269\n",
      "Epoch 20/100\n",
      "60000/60000 [==============================] - 2s 33us/step - loss: 0.2639 - acc: 0.9271\n",
      "Epoch 21/100\n",
      "60000/60000 [==============================] - 2s 33us/step - loss: 0.2635 - acc: 0.9270\n",
      "Epoch 22/100\n",
      "60000/60000 [==============================] - 2s 34us/step - loss: 0.2632 - acc: 0.9271\n",
      "Epoch 23/100\n",
      "60000/60000 [==============================] - 2s 33us/step - loss: 0.2629 - acc: 0.9273\n",
      "Epoch 24/100\n",
      "60000/60000 [==============================] - 2s 33us/step - loss: 0.2626 - acc: 0.9275\n",
      "Epoch 25/100\n",
      "60000/60000 [==============================] - 2s 34us/step - loss: 0.2622 - acc: 0.9276\n",
      "Epoch 26/100\n",
      "60000/60000 [==============================] - 2s 33us/step - loss: 0.2620 - acc: 0.9274\n",
      "Epoch 27/100\n",
      "60000/60000 [==============================] - 2s 33us/step - loss: 0.2617 - acc: 0.9278\n",
      "Epoch 28/100\n",
      "60000/60000 [==============================] - 2s 33us/step - loss: 0.2614 - acc: 0.9276\n",
      "Epoch 29/100\n",
      "60000/60000 [==============================] - 2s 33us/step - loss: 0.2612 - acc: 0.9279\n",
      "Epoch 30/100\n",
      "60000/60000 [==============================] - 2s 33us/step - loss: 0.2608 - acc: 0.9278\n",
      "Epoch 31/100\n",
      "60000/60000 [==============================] - 2s 33us/step - loss: 0.2607 - acc: 0.9277\n",
      "Epoch 32/100\n",
      "60000/60000 [==============================] - 2s 33us/step - loss: 0.2603 - acc: 0.9280\n",
      "Epoch 33/100\n",
      "60000/60000 [==============================] - 2s 33us/step - loss: 0.2601 - acc: 0.9282\n",
      "Epoch 34/100\n",
      "60000/60000 [==============================] - 2s 33us/step - loss: 0.2599 - acc: 0.9284\n",
      "Epoch 35/100\n",
      "60000/60000 [==============================] - 2s 33us/step - loss: 0.2597 - acc: 0.9280\n",
      "Epoch 36/100\n",
      "60000/60000 [==============================] - 2s 33us/step - loss: 0.2594 - acc: 0.9285\n",
      "Epoch 37/100\n",
      "60000/60000 [==============================] - 2s 33us/step - loss: 0.2592 - acc: 0.9284\n",
      "Epoch 38/100\n",
      "60000/60000 [==============================] - 2s 34us/step - loss: 0.2591 - acc: 0.9288\n",
      "Epoch 39/100\n",
      "60000/60000 [==============================] - 2s 33us/step - loss: 0.2588 - acc: 0.9286\n",
      "Epoch 40/100\n",
      "60000/60000 [==============================] - 2s 33us/step - loss: 0.2586 - acc: 0.9288\n",
      "Epoch 41/100\n",
      "60000/60000 [==============================] - 2s 33us/step - loss: 0.2583 - acc: 0.9288\n",
      "Epoch 42/100\n",
      "60000/60000 [==============================] - 2s 33us/step - loss: 0.2580 - acc: 0.9289\n",
      "Epoch 43/100\n",
      "60000/60000 [==============================] - 2s 33us/step - loss: 0.2580 - acc: 0.9287\n",
      "Epoch 44/100\n",
      "60000/60000 [==============================] - 2s 33us/step - loss: 0.2578 - acc: 0.9290\n",
      "Epoch 45/100\n",
      "60000/60000 [==============================] - 2s 33us/step - loss: 0.2575 - acc: 0.9295\n",
      "Epoch 46/100\n",
      "60000/60000 [==============================] - 2s 33us/step - loss: 0.2574 - acc: 0.9290\n",
      "Epoch 47/100\n",
      "60000/60000 [==============================] - 2s 33us/step - loss: 0.2572 - acc: 0.9292\n",
      "Epoch 48/100\n",
      "60000/60000 [==============================] - 2s 33us/step - loss: 0.2570 - acc: 0.9294\n",
      "Epoch 49/100\n",
      "60000/60000 [==============================] - 2s 33us/step - loss: 0.2568 - acc: 0.9299\n",
      "Epoch 50/100\n",
      "60000/60000 [==============================] - 2s 33us/step - loss: 0.2566 - acc: 0.9294\n",
      "Epoch 51/100\n",
      "60000/60000 [==============================] - 2s 33us/step - loss: 0.2565 - acc: 0.9296\n",
      "Epoch 52/100\n",
      "60000/60000 [==============================] - 2s 33us/step - loss: 0.2563 - acc: 0.9294\n",
      "Epoch 53/100\n",
      "60000/60000 [==============================] - 2s 33us/step - loss: 0.2561 - acc: 0.9295\n",
      "Epoch 54/100\n",
      "60000/60000 [==============================] - 2s 33us/step - loss: 0.2561 - acc: 0.9296\n",
      "Epoch 55/100\n",
      "60000/60000 [==============================] - 2s 33us/step - loss: 0.2557 - acc: 0.9295\n",
      "Epoch 56/100\n",
      "60000/60000 [==============================] - 2s 33us/step - loss: 0.2557 - acc: 0.9298\n",
      "Epoch 57/100\n",
      "60000/60000 [==============================] - 2s 34us/step - loss: 0.2555 - acc: 0.9294\n",
      "Epoch 58/100\n",
      "60000/60000 [==============================] - 2s 33us/step - loss: 0.2553 - acc: 0.9297\n",
      "Epoch 59/100\n",
      "60000/60000 [==============================] - 2s 33us/step - loss: 0.2551 - acc: 0.9299\n",
      "Epoch 60/100\n",
      "60000/60000 [==============================] - 2s 34us/step - loss: 0.2550 - acc: 0.9302\n",
      "Epoch 61/100\n",
      "60000/60000 [==============================] - 2s 33us/step - loss: 0.2549 - acc: 0.9301\n",
      "Epoch 62/100\n",
      "60000/60000 [==============================] - 2s 34us/step - loss: 0.2547 - acc: 0.9302\n",
      "Epoch 63/100\n",
      "60000/60000 [==============================] - 2s 33us/step - loss: 0.2546 - acc: 0.9302\n",
      "Epoch 64/100\n",
      "60000/60000 [==============================] - 2s 33us/step - loss: 0.2544 - acc: 0.9304\n",
      "Epoch 65/100\n",
      "60000/60000 [==============================] - 2s 33us/step - loss: 0.2543 - acc: 0.9302\n",
      "Epoch 66/100\n",
      "60000/60000 [==============================] - 2s 33us/step - loss: 0.2541 - acc: 0.9306\n",
      "Epoch 67/100\n",
      "60000/60000 [==============================] - 2s 33us/step - loss: 0.2539 - acc: 0.9303\n",
      "Epoch 68/100\n",
      "60000/60000 [==============================] - 2s 33us/step - loss: 0.2539 - acc: 0.9304\n",
      "Epoch 69/100\n",
      "60000/60000 [==============================] - 2s 33us/step - loss: 0.2538 - acc: 0.9305\n",
      "Epoch 70/100\n",
      "60000/60000 [==============================] - 2s 33us/step - loss: 0.2535 - acc: 0.9304\n",
      "Epoch 71/100\n",
      "60000/60000 [==============================] - 2s 33us/step - loss: 0.2534 - acc: 0.9308\n",
      "Epoch 72/100\n",
      "60000/60000 [==============================] - 2s 33us/step - loss: 0.2533 - acc: 0.9306\n",
      "Epoch 73/100\n",
      "60000/60000 [==============================] - 2s 33us/step - loss: 0.2532 - acc: 0.9306\n",
      "Epoch 74/100\n",
      "60000/60000 [==============================] - 2s 34us/step - loss: 0.2531 - acc: 0.9305\n",
      "Epoch 75/100\n",
      "60000/60000 [==============================] - 2s 33us/step - loss: 0.2529 - acc: 0.9310\n",
      "Epoch 76/100\n",
      "60000/60000 [==============================] - 2s 33us/step - loss: 0.2528 - acc: 0.9307\n",
      "Epoch 77/100\n",
      "60000/60000 [==============================] - 2s 33us/step - loss: 0.2527 - acc: 0.9307\n",
      "Epoch 78/100\n",
      "60000/60000 [==============================] - 2s 33us/step - loss: 0.2526 - acc: 0.9306\n",
      "Epoch 79/100\n",
      "60000/60000 [==============================] - 2s 34us/step - loss: 0.2525 - acc: 0.9309\n",
      "Epoch 80/100\n",
      "60000/60000 [==============================] - 2s 33us/step - loss: 0.2523 - acc: 0.9309\n",
      "Epoch 81/100\n"
     ]
    },
    {
     "name": "stdout",
     "output_type": "stream",
     "text": [
      "60000/60000 [==============================] - 2s 33us/step - loss: 0.2522 - acc: 0.9309\n",
      "Epoch 82/100\n",
      "60000/60000 [==============================] - 2s 33us/step - loss: 0.2520 - acc: 0.9309\n",
      "Epoch 83/100\n",
      "60000/60000 [==============================] - 2s 33us/step - loss: 0.2520 - acc: 0.9307\n",
      "Epoch 84/100\n",
      "60000/60000 [==============================] - 2s 33us/step - loss: 0.2518 - acc: 0.9315\n",
      "Epoch 85/100\n",
      "60000/60000 [==============================] - 2s 33us/step - loss: 0.2517 - acc: 0.9310\n",
      "Epoch 86/100\n",
      "60000/60000 [==============================] - 2s 33us/step - loss: 0.2516 - acc: 0.9311\n",
      "Epoch 87/100\n",
      "60000/60000 [==============================] - 2s 33us/step - loss: 0.2515 - acc: 0.9309\n",
      "Epoch 88/100\n",
      "60000/60000 [==============================] - 2s 33us/step - loss: 0.2514 - acc: 0.9311\n",
      "Epoch 89/100\n",
      "60000/60000 [==============================] - 2s 33us/step - loss: 0.2513 - acc: 0.9309\n",
      "Epoch 90/100\n",
      "60000/60000 [==============================] - 2s 33us/step - loss: 0.2512 - acc: 0.9311\n",
      "Epoch 91/100\n",
      "60000/60000 [==============================] - 2s 34us/step - loss: 0.2510 - acc: 0.9309\n",
      "Epoch 92/100\n",
      "60000/60000 [==============================] - 2s 33us/step - loss: 0.2509 - acc: 0.9315\n",
      "Epoch 93/100\n",
      "60000/60000 [==============================] - 2s 33us/step - loss: 0.2508 - acc: 0.9314\n",
      "Epoch 94/100\n",
      "60000/60000 [==============================] - 2s 33us/step - loss: 0.2507 - acc: 0.9309\n",
      "Epoch 95/100\n",
      "60000/60000 [==============================] - 2s 33us/step - loss: 0.2506 - acc: 0.9314\n",
      "Epoch 96/100\n",
      "60000/60000 [==============================] - 2s 33us/step - loss: 0.2506 - acc: 0.9310\n",
      "Epoch 97/100\n",
      "60000/60000 [==============================] - 2s 33us/step - loss: 0.2505 - acc: 0.9311\n",
      "Epoch 98/100\n",
      "60000/60000 [==============================] - 2s 33us/step - loss: 0.2503 - acc: 0.9316\n",
      "Epoch 99/100\n",
      "60000/60000 [==============================] - 2s 33us/step - loss: 0.2503 - acc: 0.9314\n",
      "Epoch 100/100\n",
      "60000/60000 [==============================] - 2s 33us/step - loss: 0.2500 - acc: 0.9317\n"
     ]
    }
   ],
   "source": [
    "LR_history=LR.fit(X_train1, y_train1, epochs=100)"
   ]
  },
  {
   "cell_type": "code",
   "execution_count": 12,
   "metadata": {},
   "outputs": [
    {
     "name": "stdout",
     "output_type": "stream",
     "text": [
      "10000/10000 [==============================] - 0s 19us/step\n",
      "Test score: 0.266761075622\n",
      "Test accuracy: 0.9249\n",
      "[2 1 0 4]\n",
      "[[ 0.  0.  1.  0.  0.  0.  0.  0.  0.  0.]\n",
      " [ 0.  1.  0.  0.  0.  0.  0.  0.  0.  0.]\n",
      " [ 1.  0.  0.  0.  0.  0.  0.  0.  0.  0.]\n",
      " [ 0.  0.  0.  0.  1.  0.  0.  0.  0.  0.]]\n"
     ]
    }
   ],
   "source": [
    "score = LR.evaluate(X_test1, y_test1)\n",
    "print('Test score:', score[0])\n",
    "print('Test accuracy:', score[1])\n",
    "print(LR.predict_classes(X_test1[1:5]))\n",
    "print(y_test1[1:5])"
   ]
  },
  {
   "cell_type": "code",
   "execution_count": 16,
   "metadata": {},
   "outputs": [
    {
     "name": "stdout",
     "output_type": "stream",
     "text": [
      "[7 2 1 ..., 4 5 6]\n",
      "[7 2 1 ..., 4 5 6]\n",
      "             precision    recall  f1-score   support\n",
      "\n",
      "          0       0.95      0.98      0.97       980\n",
      "          1       0.97      0.98      0.97      1135\n",
      "          2       0.93      0.90      0.92      1032\n",
      "          3       0.90      0.92      0.91      1010\n",
      "          4       0.92      0.93      0.93       982\n",
      "          5       0.91      0.87      0.89       892\n",
      "          6       0.94      0.95      0.94       958\n",
      "          7       0.93      0.92      0.93      1028\n",
      "          8       0.89      0.88      0.88       974\n",
      "          9       0.91      0.90      0.91      1009\n",
      "\n",
      "avg / total       0.92      0.92      0.92     10000\n",
      "\n",
      "[[ 960    0    2    3    0    6    5    3    1    0]\n",
      " [   0 1111    3    2    0    2    4    2   11    0]\n",
      " [   4    9  932   17    8    3   12    9   31    7]\n",
      " [   2    1   16  927    0   23    3   11   17   10]\n",
      " [   1    2    5    3  918    0    9    3   10   31]\n",
      " [   9    2    4   37   12  774   16    8   26    4]\n",
      " [  11    3    7    1    8   12  911    3    2    0]\n",
      " [   1    6   24    7    9    1    0  950    1   29]\n",
      " [   7    9    9   26    9   27   12   11  854   10]\n",
      " [  11    8    1   11   29    5    0   26    6  912]]\n"
     ]
    }
   ],
   "source": [
    "y_pred = LR.predict_classes(X_test1)\n",
    "print(y_pred)\n",
    "print(y_test)\n",
    "#p=model.predict_proba(X_test) # to predict probability\n",
    "\n",
    "print(classification_report(y_test, y_pred))\n",
    "confusion_matrix=confusion_matrix(y_test, y_pred)\n",
    "print(confusion_matrix)"
   ]
  },
  {
   "cell_type": "code",
   "execution_count": 17,
   "metadata": {},
   "outputs": [
    {
     "data": {
      "text/plain": [
       "<matplotlib.axes._subplots.AxesSubplot at 0x7f634b767d68>"
      ]
     },
     "execution_count": 17,
     "metadata": {},
     "output_type": "execute_result"
    },
    {
     "data": {
      "image/png": "[encoded data removed]",
      "text/plain": [
       "<matplotlib.figure.Figure at 0x7f6315ab3ac8>"
      ]
     },
     "metadata": {},
     "output_type": "display_data"
    }
   ],
   "source": [
    "import seaborn as sn\n",
    "import pandas as pd\n",
    "import matplotlib.pyplot as plt\n",
    "\n",
    "df_cm = pd.DataFrame(confusion_matrix, index = [i for i in \"0123456789\"],\n",
    "                  columns = [i for i in \"0123456789\"])\n",
    "plt.figure(figsize = (15,12))\n",
    "sn.heatmap(df_cm, annot=True, fmt=\"g\", cmap=\"YlGnBu\", vmax=50)"
   ]
  },
  {
   "cell_type": "code",
   "execution_count": 4,
   "metadata": {},
   "outputs": [],
   "source": [
    "KNN=KNeighborsClassifier()"
   ]
  },
  {
   "cell_type": "code",
   "execution_count": 5,
   "metadata": {},
   "outputs": [
    {
     "data": {
      "text/plain": [
       "((60000, 784), (60000,))"
      ]
     },
     "execution_count": 5,
     "metadata": {},
     "output_type": "execute_result"
    }
   ],
   "source": [
    "X_train.shape, y_train.shape"
   ]
  },
  {
   "cell_type": "code",
   "execution_count": 6,
   "metadata": {},
   "outputs": [
    {
     "data": {
      "text/plain": [
       "8.980120182037354"
      ]
     },
     "metadata": {},
     "output_type": "display_data"
    }
   ],
   "source": [
    "t1 = time()\n",
    "KNN.fit(X_train,y_train)\n",
    "t2 = time()\n",
    "display(t2-t1)"
   ]
  },
  {
   "cell_type": "code",
   "execution_count": 7,
   "metadata": {},
   "outputs": [
    {
     "data": {
      "text/plain": [
       "0.96879999999999999"
      ]
     },
     "metadata": {},
     "output_type": "display_data"
    },
    {
     "data": {
      "text/plain": [
       "768.4667642116547"
      ]
     },
     "metadata": {},
     "output_type": "display_data"
    }
   ],
   "source": [
    "t1 = time()\n",
    "display(KNN.score(X_test,y_test))\n",
    "t2 = time()\n",
    "display(t2-t1)"
   ]
  },
  {
   "cell_type": "markdown",
   "metadata": {},
   "source": [
    "KNN is fast to fit but slow to score ot test data"
   ]
  },
  {
   "cell_type": "code",
   "execution_count": 18,
   "metadata": {},
   "outputs": [
    {
     "data": {
      "text/plain": [
       "58.282710790634155"
      ]
     },
     "metadata": {},
     "output_type": "display_data"
    }
   ],
   "source": [
    "t1 = time()\n",
    "\n",
    "ada = AdaBoostClassifier()\n",
    "ada.fit(X_train, y_train)\n",
    "\n",
    "t2 = time()\n",
    "display(t2-t1)"
   ]
  },
  {
   "cell_type": "code",
   "execution_count": 19,
   "metadata": {},
   "outputs": [
    {
     "data": {
      "text/plain": [
       "0.72989999999999999"
      ]
     },
     "metadata": {},
     "output_type": "display_data"
    },
    {
     "data": {
      "text/plain": [
       "0.4182884693145752"
      ]
     },
     "metadata": {},
     "output_type": "display_data"
    }
   ],
   "source": [
    "t1 = time()\n",
    "display(ada.score(X_test, y_test))\n",
    "\n",
    "t2 = time()\n",
    "display(t2-t1)"
   ]
  },
  {
   "cell_type": "code",
   "execution_count": null,
   "metadata": {},
   "outputs": [],
   "source": [
    "t1 = time()\n",
    "\n",
    "svc = SVC()\n",
    "svc.fit(X_train, y_train)\n",
    "\n",
    "t2 = time()\n",
    "display(t2-t1)"
   ]
  },
  {
   "cell_type": "code",
   "execution_count": null,
   "metadata": {},
   "outputs": [],
   "source": [
    "t1 = time()\n",
    "display(svc.score(X_test, y_test))\n",
    "\n",
    "t2 = time()\n",
    "display(t2-t1)"
   ]
  },
  {
   "cell_type": "code",
   "execution_count": null,
   "metadata": {},
   "outputs": [],
   "source": []
  }
 ],
 "metadata": {
  "kernelspec": {
   "display_name": "Python 3",
   "language": "python",
   "name": "python3"
  },
  "language_info": {
   "codemirror_mode": {
    "name": "ipython",
    "version": 3
   },
   "file_extension": ".py",
   "mimetype": "text/x-python",
   "name": "python",
   "nbconvert_exporter": "python",
   "pygments_lexer": "ipython3",
   "version": "3.5.2"
  }
 },
 "nbformat": 4,
 "nbformat_minor": 2
}
